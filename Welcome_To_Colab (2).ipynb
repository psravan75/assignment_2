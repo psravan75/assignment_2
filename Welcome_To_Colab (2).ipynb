{
  "cells": [
    {
      "cell_type": "markdown",
      "source": [
        ":1.The difference between a function and a method in Python primarily lies in how they are called and where they are used:\n",
        "Function:\n",
        "\n",
        "    A function is a block of reusable code that is independent of any object.\n",
        "    It is defined using the def keyword and can be called directly by its name.\n",
        "    Functions can exist globally and don't need to be part of a class.\n",
        "\n",
        "Example of a function:\n",
        "\n",
        "python\n",
        "\n",
        "def add(a, b):\n",
        "    return a + b\n",
        "\n",
        "result = add(5, 3)  # Function call\n",
        "print(result)  # Output: 8\n",
        "\n",
        "Here, add is a function that can be called directly.\n",
        "Method:\n",
        "\n",
        "    A method is similar to a function, but it is associated with an object (i.e., it's defined inside a class).\n",
        "    It is called using the object or instance of the class.\n",
        "    Methods take the instance (self) as their first parameter (in instance methods).\n",
        "\n",
        "Example of a method:\n",
        "\n",
        "python\n",
        "\n",
        "class Calculator:\n",
        "    def add(self, a, b):\n",
        "        return a + b\n",
        "\n",
        "calc = Calculator()  # Create an instance of the class\n",
        "result = calc.add(5, 3)  # Method call\n",
        "print(result)  # Output: 8\n",
        "\n",
        "Here, add is a method because it is defined inside a class and is called using the calc object.\n",
        "Key Differences:\n",
        "\n",
        "    Functions are standalone and can be used independently, while methods are tied to objects or instances of a class.\n",
        "    Methods implicitly take the object instance (self) as their first argument, while functions do not."
      ],
      "metadata": {
        "id": "xpmfW_OmpiQq"
      }
    },
    {
      "cell_type": "code",
      "source": [],
      "metadata": {
        "id": "5S8qcalCpza_"
      },
      "execution_count": null,
      "outputs": []
    },
    {
      "cell_type": "markdown",
      "source": [
        "2. Explain the concept of function arguments and parameters in Python.\n",
        "\n",
        "In Python, *parameters* and *arguments* are related concepts used in functions, but they refer to different things:\n",
        "\n",
        "### Parameters:\n",
        "- *Parameters* are the variables defined in the function declaration.\n",
        "- They act as placeholders that will receive values when the function is called.\n",
        "- Parameters are specified in the parentheses during the function definition.\n",
        "\n",
        "#### Example of a parameter:\n",
        "python\n",
        "def greet(name):  # 'name' is a parameter\n",
        "    print(f\"Hello, {name}!\")\n",
        "\n",
        "\n",
        "Here, name is a *parameter* that will be used inside the function.\n",
        "\n",
        "---\n",
        "\n",
        "### Arguments:\n",
        "- *Arguments* are the actual values that are passed to the function when it is called.\n",
        "- They \"fill in\" the placeholders (parameters) with real data.\n",
        "- You provide arguments inside the parentheses when calling the function.\n",
        "\n",
        "#### Example of an argument:\n",
        "python\n",
        "greet(\"Pokal\")  # \"Pokal\" is an argument passed to the function\n",
        "\n",
        "\n",
        "In this example, \"Pokal\" is the *argument* that is passed to the greet function, and it replaces the name parameter.\n",
        "\n",
        "---\n",
        "\n",
        "### Types of Function Arguments:\n",
        "1. *Positional Arguments*: These are matched to parameters by their position in the function call.\n",
        "    - Example:\n",
        "    python\n",
        "    def add(a, b):\n",
        "        return a + b\n",
        "    \n",
        "    result = add(5, 10)  # Positional arguments: a=5, b=10\n",
        "    print(result)  # Output: 15\n",
        "    \n",
        "\n",
        "2. *Keyword Arguments*: These are passed by explicitly naming the parameter.\n",
        "    - Example:\n",
        "    python\n",
        "    result = add(b=10, a=5)  # Keyword arguments: a=5, b=10\n",
        "    print(result)  # Output: 15\n",
        "    \n",
        "\n",
        "3. *Default Arguments*: These are parameters with default values, used if no argument is provided.\n",
        "    - Example:\n",
        "    python\n",
        "    def greet(name=\"Guest\"):\n",
        "        print(f\"Hello, {name}!\")\n",
        "    \n",
        "    greet()  # Uses default argument: \"Guest\"\n",
        "    greet(\"Pokal\")  # Argument: \"Pokal\"\n",
        "    \n",
        "\n",
        "4. **Arbitrary Arguments (*args): These allow you to pass a variable number of arguments to a function.\n",
        "    - Example:\n",
        "    python\n",
        "    def sum_numbers(*args):\n",
        "        return sum(args)\n",
        "    \n",
        "    result = sum_numbers(1, 2, 3, 4)\n",
        "    print(result)  # Output: 10\n",
        "    \n",
        "\n",
        "---\n",
        "\n",
        "### Summary:\n",
        "- *Parameters* are variables in the function definition.\n",
        "- *Arguments* are the values passed to the function when it is called."
      ],
      "metadata": {
        "id": "_QR8SqfIp1Th"
      }
    },
    {
      "cell_type": "code",
      "source": [],
      "metadata": {
        "id": "u1Ec4zmvqH4P"
      },
      "execution_count": null,
      "outputs": []
    },
    {
      "cell_type": "markdown",
      "source": [
        "\n",
        "\n",
        "### 3.Different Ways to Define and Call a Function in Python\n",
        "\n",
        "1. *Basic Function:*\n",
        "   - *Definition:* You write a function using the def keyword, specify the name, and list the parameters.\n",
        "   - *Example:*\n",
        "     python\n",
        "     def add(a, b):\n",
        "         return a + b\n",
        "     \n",
        "   - *Call:* You use the function name and pass the arguments.\n",
        "     python\n",
        "     result = add(5, 3)\n",
        "     print(result)  # This will print 8\n",
        "     \n",
        "\n",
        "2. *Function with Default Values:*\n",
        "   - *Definition:* You can set default values for parameters, so if you don't provide an argument, it uses the default.\n",
        "   - *Example:*\n",
        "     python\n",
        "     def greet(name=\"Guest\"):\n",
        "         print(f\"Hello, {name}!\")\n",
        "     \n",
        "   - *Call:* You can call it with or without an argument.\n",
        "     python\n",
        "     greet()          # Prints \"Hello, Guest!\"\n",
        "     greet(\"Sravan\")  # Prints \"Hello, Sravan!\"\n",
        "     \n",
        "\n",
        "3. **Function with Variable Number of Arguments (*args):**\n",
        "   - *Definition:* Use *args to allow the function to accept any number of positional arguments.\n",
        "   - *Example:*\n",
        "     python\n",
        "     def sum_numbers(*args):\n",
        "         return sum(args)\n",
        "     \n",
        "   - *Call:* You can pass as many numbers as you want.\n",
        "     python\n",
        "     result = sum_numbers(1, 2, 3, 4)\n",
        "     print(result)  # This will print 10\n",
        "     \n",
        "\n",
        "4. **Function with Keyword Arguments (**kwargs):**\n",
        "   - *Definition:* Use **kwargs to accept any number of keyword arguments (key-value pairs).\n",
        "   - *Example:*\n",
        "     python\n",
        "     def describe_person(**kwargs):\n",
        "         for key, value in kwargs.items():\n",
        "             print(f\"{key}: {value}\")\n",
        "     \n",
        "   - *Call:* Pass information in key-value pairs.\n",
        "     python\n",
        "     describe_person(name=\"Sravan\", age=25)\n",
        "     # This will print:\n",
        "     # name: Sravan\n",
        "     # age: 25\n",
        "     \n",
        "\n",
        "5. *Lambda Functions (Anonymous Functions):*\n",
        "   - *Definition:* These are short, throwaway functions defined with the lambda keyword.\n",
        "   - *Example:*\n",
        "     python\n",
        "     multiply = lambda x, y: x * y\n",
        "     \n",
        "   - *Call:* Use it just like a regular function.\n",
        "     python\n",
        "     result = multiply(4, 5)\n",
        "     print(result)  # This will print 20\n",
        "     \n",
        "\n",
        "### Summary:\n",
        "- *Basic Function:* Define and call normally.\n",
        "- *Default Values:* Set default for parameters.\n",
        "- *Variable Arguments:* Accept multiple arguments.\n",
        "- *Keyword Arguments:* Handle key-value pairs.\n",
        "- *Lambda:* Quick, anonymous functions.\n",
        "\n",
        "Each method has its own use case depending on what you need your function to do."
      ],
      "metadata": {
        "id": "3fBxUvShqIyq"
      }
    },
    {
      "cell_type": "code",
      "source": [],
      "metadata": {
        "id": "OMcCCjtvqmc8"
      },
      "execution_count": null,
      "outputs": []
    },
    {
      "cell_type": "markdown",
      "source": [
        "4. What is the purpose of the return statement in a Python function?\n",
        "\n",
        "The return statement is a crucial part of functions in Python. Here’s why it matters:\n",
        "\n",
        "1. *End Function Execution:*\n",
        "   - When a function hits a return statement, it stops executing. No further code in that function is run after the return line.\n",
        "   - *Example:*\n",
        "     python\n",
        "     def greet(name):\n",
        "         print(f\"Hello, {name}!\")\n",
        "         return  # Ends function execution here\n",
        "         print(\"This won't be printed\")\n",
        "     \n",
        "\n",
        "2. *Send Back a Result:*\n",
        "   - The primary job of return is to send a result from the function back to where it was called. This result can then be used or stored for later.\n",
        "   - *Example:*\n",
        "     python\n",
        "     def add(a, b):\n",
        "         return a + b  # Sends the result back\n",
        "     \n",
        "     result = add(3, 4)  # result now holds the value 7\n",
        "     print(result)  # Prints 7\n",
        "     \n",
        "\n",
        "3. *Provide Output:*\n",
        "   - By using return, you give the function a way to provide output, making it more useful. Without return, a function would perform actions but wouldn’t give any value back.\n",
        "   - *Example:*\n",
        "     python\n",
        "     def square(number):\n",
        "         return number * number  # Returns the square of the number\n",
        "     \n",
        "     print(square(5))  # Prints 25\n",
        "     \n",
        "\n",
        "4. *Control Flow:*\n",
        "   - return can also control the flow of the program. It allows functions to stop running early if certain conditions are met.\n",
        "   - *Example:*\n",
        "     python\n",
        "     def check_even(number):\n",
        "         if number % 2 == 0:\n",
        "             return \"Even\"  # Returns early if the number is even\n",
        "         return \"Odd\"\n",
        "     \n",
        "     print(check_even(4))  # Prints \"Even\"\n",
        "     print(check_even(7))  # Prints \"Odd\"\n",
        "     \n",
        "\n",
        "### Summary:\n",
        "- *Stops Execution:* Ends the function when reached.\n",
        "- *Sends Back Result:* Provides output to where the function was called.\n",
        "- *Provides Output:* Makes the function’s results usable.\n",
        "- *Controls Flow:* Allows early exits based on conditions.\n",
        "\n",
        "In essence, return helps make functions versatile and powerful by allowing them to provide results and control their execution flow."
      ],
      "metadata": {
        "id": "IGTQu8f8qppl"
      }
    },
    {
      "cell_type": "code",
      "source": [],
      "metadata": {
        "id": "x67rvC1tqxHd"
      },
      "execution_count": null,
      "outputs": []
    },
    {
      "cell_type": "markdown",
      "source": [
        "5.What are iterators in Python and how do they differ from iterables?\n",
        "\n",
        "Understanding iterators and iterables is key to working with loops and data in Python. Here’s a clear breakdown:\n",
        "\n",
        "### Iterables:\n",
        "- *Definition:* An *iterable* is any object in Python that can return an iterator. It means you can loop over it using a for loop. Examples include lists, tuples, strings, and dictionaries.\n",
        "- *How It Works:* Think of an iterable as a collection of items you can access one by one. It knows how to provide an iterator, but it doesn't do the actual iteration itself.\n",
        "- *Example:*\n",
        "  python\n",
        "  my_list = [1, 2, 3]\n",
        "  for item in my_list:\n",
        "      print(item)\n",
        "  # Output:\n",
        "  # 1\n",
        "  # 2\n",
        "  # 3\n",
        "  \n",
        "\n",
        "### Iterators:\n",
        "- *Definition:* An *iterator* is an object that represents a stream of data. It’s responsible for keeping track of where it is in the iteration process and knows how to get the next item.\n",
        "- *How It Works:* An iterator must implement two methods: __iter__() and __next__(). The __iter__() method returns the iterator object itself, and __next__() returns the next item. When there are no more items, __next__() raises the StopIteration exception.\n",
        "- *Example:*\n",
        "  python\n",
        "  my_list = [1, 2, 3]\n",
        "  my_iterator = iter(my_list)  # Get an iterator from the list\n",
        "  print(next(my_iterator))  # Output: 1\n",
        "  print(next(my_iterator))  # Output: 2\n",
        "  print(next(my_iterator))  # Output: 3\n",
        "  # print(next(my_iterator))  # Raises StopIteration\n",
        "  \n",
        "\n",
        "### Key Differences:\n",
        "1. *Role:*\n",
        "   - *Iterable:* Provides the iterator; it's like a collection you can loop over.\n",
        "   - *Iterator:* Does the actual looping; it knows how to access the next item and when to stop.\n",
        "\n",
        "2. *Usage:*\n",
        "   - *Iterable:* Can be used directly in loops and comprehensions.\n",
        "   - *Iterator:* Used manually with next() and handles the internal state of iteration.\n",
        "\n",
        "3. *Creation:*\n",
        "   - *Iterable:* Usually created by built-in data structures (lists, tuples, etc.) or classes that define __iter__().\n",
        "   - *Iterator:* Created by calling iter() on an iterable, or by defining a class with __iter__() and __next__() methods.\n",
        "\n",
        "### Summary:\n",
        "- *Iterable:* A collection you can loop over.\n",
        "- *Iterator:* The object that actually performs the iteration, managing the state and providing items one by one.\n",
        "\n",
        "In simpler terms, an iterable is like a book of recipes you can flip through, while an iterator is like a bookmark that keeps track of which page you’re on and helps you turn the pages one by one."
      ],
      "metadata": {
        "id": "kesQEa3xqxzV"
      }
    },
    {
      "cell_type": "code",
      "source": [],
      "metadata": {
        "id": "N6etf0Emq5QE"
      },
      "execution_count": null,
      "outputs": []
    },
    {
      "cell_type": "markdown",
      "source": [
        "6. What are Generators in Python and How Are They Defined?\n",
        "\n",
        "Generators are a special kind of iterator in Python that make working with sequences of data more efficient and flexible. Here’s a breakdown of what they are and how they work:\n",
        "\n",
        "### What Are Generators?\n",
        "\n",
        "1. *Definition:*\n",
        "   - Generators are functions that produce a sequence of values over time, instead of computing them all at once and sending them back. They use the yield keyword to return values one at a time.\n",
        "\n",
        "2. *How They Work:*\n",
        "   - When you call a generator function, it doesn’t run the function immediately. Instead, it returns a generator object. Each time you ask for the next value using the next() function, the generator function runs until it hits a yield statement, which returns a value. The generator maintains its state, so it picks up where it left off the next time you ask for a value.\n",
        "\n",
        "### How to Define Generators:\n",
        "\n",
        "1. **Using the yield Keyword:**\n",
        "   - *Definition:* You define a generator function using def, but instead of return, you use yield to give back values.\n",
        "   - *Example:*\n",
        "     python\n",
        "     def count_up_to(max):\n",
        "         count = 1\n",
        "         while count <= max:\n",
        "             yield count\n",
        "             count += 1\n",
        "     \n",
        "\n",
        "2. *Using a Generator Expression:*\n",
        "   - *Definition:* For simpler cases, you can use a generator expression, which is like a list comprehension but with parentheses instead of square brackets.\n",
        "   - *Example:*\n",
        "     python\n",
        "     squares = (x * x for x in range(1, 6))\n",
        "     \n",
        "\n",
        "### Example of Using Generators:\n",
        "\n",
        "1. *Generator Function:*\n",
        "   python\n",
        "   def count_up_to(max):\n",
        "       count = 1\n",
        "       while count <= max:\n",
        "           yield count\n",
        "           count += 1\n",
        "\n",
        "   counter = count_up_to(3)\n",
        "   print(next(counter))  # Output: 1\n",
        "   print(next(counter))  # Output: 2\n",
        "   print(next(counter))  # Output: 3\n",
        "   # print(next(counter))  # Raises StopIteration\n",
        "   \n",
        "\n",
        "2. *Generator Expression:*\n",
        "   python\n",
        "   squares = (x * x for x in range(1, 4))\n",
        "   for square in squares:\n",
        "       print(square)\n",
        "   # Output:\n",
        "   # 1\n",
        "   # 4\n",
        "   # 9\n",
        "   \n",
        "\n",
        "### Why Use Generators?\n",
        "\n",
        "1. *Memory Efficiency:*\n",
        "   - Generators are memory efficient because they produce values one at a time and don’t require all values to be stored in memory at once. This is great for working with large datasets or streams of data.\n",
        "\n",
        "2. *Lazy Evaluation:*\n",
        "   - They use lazy evaluation, meaning they only compute the next value when requested, which can be more efficient for operations that don’t need all data at once.\n",
        "\n",
        "### Summary:\n",
        "\n",
        "- *Generators* produce values on-the-fly with yield, instead of computing and storing them all at once.\n",
        "- They are defined like normal functions but use yield to return values.\n",
        "- They are memory efficient and support lazy evaluation.\n",
        "\n",
        "Think of generators as a way to create a “lazy” sequence. Instead of having all items ready upfront, they generate each item as needed, which can be particularly handy when dealing with large or infinite sequences of data."
      ],
      "metadata": {
        "id": "WVe-c-snq6Xt"
      }
    },
    {
      "cell_type": "code",
      "source": [],
      "metadata": {
        "id": "xTqky6qBq_kF"
      },
      "execution_count": null,
      "outputs": []
    },
    {
      "cell_type": "markdown",
      "source": [
        "7. What Are the Advantages of Using Generators Over Regular Functions?\n",
        "\n",
        "Generators offer several benefits compared to regular functions, especially when working with large or complex sequences of data. Here’s why they can be advantageous:\n",
        "\n",
        "### 1. *Memory Efficiency:*\n",
        "   - *How It Helps:* Regular functions that return lists or other large collections need to store all the data in memory at once. This can be problematic if the data is huge or infinite. Generators, on the other hand, yield items one at a time and don’t store the entire sequence in memory. This makes them much more memory efficient.\n",
        "   - *Example:* If you’re processing a large log file line by line, using a generator means you only keep one line in memory at a time, instead of loading the whole file.\n",
        "\n",
        "### 2. *Lazy Evaluation:*\n",
        "   - *How It Helps:* Generators use lazy evaluation, which means they generate items only when needed. This can be especially useful for operations where you don’t need all the data at once.\n",
        "   - *Example:* If you’re calculating a sequence of Fibonacci numbers, you can use a generator to produce numbers as needed rather than generating the whole sequence upfront.\n",
        "\n",
        "### 3. *Improved Performance:*\n",
        "   - *How It Helps:* Because generators yield items one at a time, they can start producing results quickly and handle large datasets efficiently without waiting for all data to be processed. This can lead to faster performance for certain tasks.\n",
        "   - *Example:* If you’re processing streaming data or data from a real-time source, generators can start yielding results immediately rather than waiting for all data to be available.\n",
        "\n",
        "### 4. *Simpler Code:*\n",
        "   - *How It Helps:* Generators can simplify your code by avoiding the need to manage the state of iteration manually. You don’t need to create and manage index variables or handle end-of-sequence conditions.\n",
        "   - *Example:* A generator that produces a sequence of numbers can replace complex loops and condition checks with a simple yield statement, making the code cleaner and easier to read.\n",
        "\n",
        "### 5. *Handling Infinite Sequences:*\n",
        "   - *How It Helps:* Generators are perfect for dealing with infinite sequences because they don’t require the entire sequence to be generated or stored. They generate values on the fly as needed.\n",
        "   - *Example:* A generator that produces an infinite sequence of even numbers will keep producing numbers indefinitely without ever running out of memory.\n",
        "\n",
        "### Summary:\n",
        "\n",
        "- *Memory Efficiency:* Generates items one at a time, saving memory.\n",
        "- *Lazy Evaluation:* Produces results as needed, not all at once.\n",
        "- *Improved Performance:* Handles large or real-time data efficiently.\n",
        "- *Simpler Code:* Makes code cleaner by managing iteration automatically.\n",
        "- *Infinite Sequences:* Can handle sequences that are too large or infinite.\n",
        "\n",
        " generators are like having a “lazy” helper that does the work only when you need it, making them ideal for tasks involving large data or infinite sequences, and keeping your code neat and efficient."
      ],
      "metadata": {
        "id": "g_PU3tpOrBJk"
      }
    },
    {
      "cell_type": "code",
      "source": [],
      "metadata": {
        "id": "dKWupfDFrMVv"
      },
      "execution_count": null,
      "outputs": []
    },
    {
      "cell_type": "markdown",
      "source": [
        "8. What Is a Lambda Function in Python and When Is It Typically Used?\n",
        "\n",
        "Lambda functions are a feature in Python that provide a concise way to write small, anonymous functions. Here’s a friendly breakdown of what they are and when you might use them:\n",
        "\n",
        "### What Is a Lambda Function?\n",
        "\n",
        "1. *Definition:*\n",
        "   - A *lambda function* is a small, unnamed function defined with the lambda keyword. It’s used to create simple functions on the fly without the need for a full function definition using def.\n",
        "\n",
        "2. *Syntax:*\n",
        "   - The basic syntax of a lambda function is:\n",
        "     python\n",
        "     lambda arguments: expression\n",
        "     \n",
        "   - Here’s a simple example:\n",
        "     python\n",
        "     add = lambda x, y: x + y\n",
        "     \n",
        "\n",
        "### When Is It Typically Used?\n",
        "\n",
        "1. *Short and Simple Functions:*\n",
        "   - *Use Case:* Lambda functions are great for short, one-off functions that are used temporarily. They are handy when you don’t want to define a full function for a simple task.\n",
        "   - *Example:* If you need a function to add two numbers just for a specific operation, you can use a lambda function:\n",
        "     python\n",
        "     add = lambda x, y: x + y\n",
        "     print(add(3, 4))  # Output: 7\n",
        "     \n",
        "\n",
        "2. *Functional Programming:*\n",
        "   - *Use Case:* They are commonly used with functions that operate on other functions, like map(), filter(), and sorted(). These functions often require a simple function as an argument.\n",
        "   - *Example:* If you want to square each number in a list:\n",
        "     python\n",
        "     numbers = [1, 2, 3, 4]\n",
        "     squared = list(map(lambda x: x ** 2, numbers))\n",
        "     print(squared)  # Output: [1, 4, 9, 16]\n",
        "     \n",
        "\n",
        "3. *Inline Functions:*\n",
        "   - *Use Case:* Lambda functions are useful when you need a quick, throwaway function for a specific context and don’t want to clutter your code with additional function definitions.\n",
        "   - *Example:* If you want to sort a list of tuples by the second element:\n",
        "     python\n",
        "     data = [(1, 'one'), (3, 'three'), (2, 'two')]\n",
        "     data_sorted = sorted(data, key=lambda x: x[1])\n",
        "     print(data_sorted)  # Output: [(1, 'one'), (2, 'two'), (3, 'three')]\n",
        "     \n",
        "\n",
        "4. *Event Handling:*\n",
        "   - *Use Case:* In GUI programming or other event-driven applications, lambda functions can be used to handle events or callbacks in a concise way.\n",
        "   - *Example:* Setting a button’s click event to print a message:\n",
        "     python\n",
        "     button = Button(root, text=\"Click me\")\n",
        "     button.config(command=lambda: print(\"Button clicked!\"))\n",
        "     \n",
        "\n",
        "### Summary:\n",
        "\n",
        "- *Lambda Function:* A small, anonymous function defined with lambda.\n",
        "- *Typical Uses:* Short-term, simple functions; functional programming with map(), filter(), sorted(), etc.; inline functions for quick tasks; and event handling in GUIs."
      ],
      "metadata": {
        "id": "K7PKKd97rNHN"
      }
    },
    {
      "cell_type": "code",
      "source": [],
      "metadata": {
        "id": "Jvxog3mwrTy0"
      },
      "execution_count": null,
      "outputs": []
    },
    {
      "cell_type": "markdown",
      "source": [
        "9. What Is the Purpose and Usage of the map() Function in Python?\n",
        "\n",
        "The map() function is a powerful and convenient tool in Python for applying a function to each item in an iterable (like a list or tuple). Here’s a simple explanation of how it works and when you might use it:\n",
        "\n",
        "### Purpose of map()\n",
        "\n",
        "1. *Apply a Function to Each Item:*\n",
        "   - *Goal:* The main purpose of map() is to apply a given function to every item in an iterable and return a new iterable with the results.\n",
        "   - *How It Works:* You provide map() with a function and an iterable, and it applies that function to each element in the iterable, producing a result for each.\n",
        "\n",
        "2. *Transform Data:*\n",
        "   - *Goal:* It’s often used to transform or process data efficiently in a clean and readable way.\n",
        "   - *How It Works:* Instead of using a loop to process each item, map() allows you to apply transformations with a single line of code.\n",
        "\n",
        "### How to Use map()\n",
        "\n",
        "1. *Basic Usage:*\n",
        "   - *Syntax:*\n",
        "     python\n",
        "     map(function, iterable)\n",
        "     \n",
        "   - *Example:* If you want to square each number in a list:\n",
        "     python\n",
        "     def square(x):\n",
        "         return x * x\n",
        "\n",
        "     numbers = [1, 2, 3, 4]\n",
        "     squared = map(square, numbers)\n",
        "     print(list(squared))  # Output: [1, 4, 9, 16]\n",
        "     \n",
        "\n",
        "2. *Using Lambda Functions:*\n",
        "   - *Goal:* For simple transformations, you can use lambda functions directly with map(), avoiding the need for a separate function definition.\n",
        "   - *Example:* Squaring numbers using a lambda function:\n",
        "     python\n",
        "     numbers = [1, 2, 3, 4]\n",
        "     squared = map(lambda x: x * x, numbers)\n",
        "     print(list(squared))  # Output: [1, 4, 9, 16]\n",
        "     \n",
        "\n",
        "3. *Working with Multiple Iterables:*\n",
        "   - *Goal:* map() can also handle multiple iterables, applying the function to corresponding items from each iterable.\n",
        "   - *Example:* Adding corresponding elements from two lists:\n",
        "     python\n",
        "     def add(x, y):\n",
        "         return x + y\n",
        "\n",
        "     numbers1 = [1, 2, 3]\n",
        "     numbers2 = [4, 5, 6]\n",
        "     result = map(add, numbers1, numbers2)\n",
        "     print(list(result))  # Output: [5, 7, 9]\n",
        "     \n",
        "\n",
        "4. *Practical Use Cases:*\n",
        "   - *Goal:* map() is useful for processing or transforming data in a concise way, such as converting strings to integers, applying mathematical operations, or modifying data in a list.\n",
        "   - *Example:* Converting a list of strings to uppercase:\n",
        "     python\n",
        "     strings = ['hello', 'world']\n",
        "     uppercased = map(str.upper, strings)\n",
        "     print(list(uppercased))  # Output: ['HELLO', 'WORLD']\n",
        "     \n",
        "\n",
        "### Summary:\n",
        "\n",
        "- *Purpose:* Apply a function to every item in an iterable and get back a new iterable with the results.\n",
        "- *Usage:* Transform data, perform operations efficiently, and handle multiple iterables.\n",
        "- *Examples:* Squaring numbers, converting strings, adding elements from two lists.\n",
        "\n",
        "In simple terms, map() is like a smart assistant that takes care of repetitive tasks for you, applying a function to each item in a list or other iterable, and giving you back the results in a clean and efficient way."
      ],
      "metadata": {
        "id": "gIlB2T_lrVPk"
      }
    },
    {
      "cell_type": "code",
      "source": [],
      "metadata": {
        "id": "mZSsELlIrbCf"
      },
      "execution_count": null,
      "outputs": []
    },
    {
      "cell_type": "markdown",
      "source": [
        "10. What Is the Difference Between map(), reduce(), and filter() Functions in Python?\n",
        "\n",
        "These three functions are commonly used in Python for processing sequences of data. Each serves a different purpose and operates in a unique way. Here’s a friendly explanation of how they differ:\n",
        "\n",
        "### 1. **map()**\n",
        "\n",
        "- *Purpose:* Apply a function to every item in an iterable and return a new iterable with the results.\n",
        "- *How It Works:* You provide map() with a function and an iterable. It applies the function to each element of the iterable and returns an iterator of the results.\n",
        "- *Usage Example:* Suppose you have a list of numbers and you want to square each number:\n",
        "  python\n",
        "  def square(x):\n",
        "      return x * x\n",
        "\n",
        "  numbers = [1, 2, 3, 4]\n",
        "  squared_numbers = map(square, numbers)\n",
        "  print(list(squared_numbers))  # Output: [1, 4, 9, 16]\n",
        "  \n",
        "- *In Summary:* Use map() when you need to transform or modify each item in a sequence.\n",
        "\n",
        "### 2. **reduce()**\n",
        "\n",
        "- *Purpose:* Apply a function cumulatively to the items of an iterable, reducing it to a single result.\n",
        "- *How It Works:* reduce() takes a function and an iterable. It repeatedly applies the function to pairs of items, accumulating the result, and eventually returns a single value.\n",
        "- *Usage Example:* If you want to calculate the product of all numbers in a list:\n",
        "  python\n",
        "  from functools import reduce\n",
        "\n",
        "  def multiply(x, y):\n",
        "      return x * y\n",
        "\n",
        "  numbers = [1, 2, 3, 4]\n",
        "  product = reduce(multiply, numbers)\n",
        "  print(product)  # Output: 24\n",
        "  \n",
        "- *In Summary:* Use reduce() when you need to combine or aggregate the items of a sequence into a single value.\n",
        "\n",
        "### 3. **filter()**\n",
        "\n",
        "- *Purpose:* Apply a function to each item in an iterable and return an iterable with only those items that satisfy a condition (i.e., the function returns True).\n",
        "- *How It Works:* You provide filter() with a function and an iterable. The function should return True or False for each item. filter() returns an iterator with items where the function returned True.\n",
        "- *Usage Example:* If you want to filter out even numbers from a list:\n",
        "  python\n",
        "  def is_even(x):\n",
        "      return x % 2 == 0\n",
        "\n",
        "  numbers = [1, 2, 3, 4, 5]\n",
        "  evens = filter(is_even, numbers)\n",
        "  print(list(evens))  # Output: [2, 4]\n",
        "  \n",
        "- *In Summary:* Use filter() when you need to select items from a sequence based on a condition.\n",
        "\n",
        "### Quick Recap:\n",
        "\n",
        "- **map():** Transforms each item in a sequence based on a function.\n",
        "- **reduce():** Aggregates items in a sequence into a single result.\n",
        "- **filter():** Selects items in a sequence based on a condition.\n",
        "\n",
        "think of these functions as tools for different tasks: map() is for changing each item, reduce() is for combining all items into one result, and filter() is for picking out items that meet certain criteria."
      ],
      "metadata": {
        "id": "-Q0oRQ8srcIQ"
      }
    },
    {
      "cell_type": "markdown",
      "source": [
        "https://docs.google.com/document/d/1NFSywuzxjf_hJxVzlKBwG_05y86dGHJbhv5NYZKblN8/edit?usp=sharing"
      ],
      "metadata": {
        "id": "SGXaQVd6u1Gl"
      }
    },
    {
      "cell_type": "code",
      "source": [
        "1 def sum_of_even_numbers(numbers):\n",
        "    even_sum = sum(num for num in numbers if num % 2 == 0)\n",
        "    return even_sum\n",
        "\n"
      ],
      "metadata": {
        "id": "pCjaw1Ueu2DF"
      },
      "execution_count": 1,
      "outputs": []
    },
    {
      "cell_type": "code",
      "source": [
        "numbers_list = [1, 2, 3, 4, 5, 6]\n",
        "result = sum_of_even_numbers(numbers_list)\n",
        "print(\"Sum of even numbers:\", result)\n"
      ],
      "metadata": {
        "id": "LFpsJv0mu7fJ",
        "outputId": "81b3bc8c-1ee2-4c9b-b961-3836bcdd1d82",
        "colab": {
          "base_uri": "https://localhost:8080/"
        }
      },
      "execution_count": 2,
      "outputs": [
        {
          "output_type": "stream",
          "name": "stdout",
          "text": [
            "Sum of even numbers: 12\n"
          ]
        }
      ]
    },
    {
      "cell_type": "code",
      "source": [
        " 2 def reverse_string(s):\n",
        "    return s[::-1]\n",
        "\n"
      ],
      "metadata": {
        "id": "BK0FNoN9vC0e"
      },
      "execution_count": 3,
      "outputs": []
    },
    {
      "cell_type": "code",
      "source": [
        "input_string = \"Hello, sravan!\"\n",
        "reversed_string = reverse_string(input_string)\n",
        "print(\"Reversed string:\", reversed_string)\n"
      ],
      "metadata": {
        "id": "HlV2zZfdzStp",
        "outputId": "7cae47bf-bf6d-47b3-900f-ff4bd9cd65b5",
        "colab": {
          "base_uri": "https://localhost:8080/"
        }
      },
      "execution_count": 4,
      "outputs": [
        {
          "output_type": "stream",
          "name": "stdout",
          "text": [
            "Reversed string: !navars ,olleH\n"
          ]
        }
      ]
    },
    {
      "cell_type": "code",
      "source": [
        "3 def square_numbers(numbers):\n",
        "    return [num ** 2 for num in numbers]\n"
      ],
      "metadata": {
        "id": "Uxj23FyMzjLE"
      },
      "execution_count": 6,
      "outputs": []
    },
    {
      "cell_type": "code",
      "source": [
        "numbers_list = [1, 2, 3, 4, 5]\n",
        "squared_list = square_numbers(numbers_list)\n",
        "print(\"Squared list:\", squared_list)\n"
      ],
      "metadata": {
        "id": "JE_OGM1C0CRD",
        "outputId": "59e7ae13-dd2f-42e8-88f8-f41081c82f08",
        "colab": {
          "base_uri": "https://localhost:8080/"
        }
      },
      "execution_count": 7,
      "outputs": [
        {
          "output_type": "stream",
          "name": "stdout",
          "text": [
            "Squared list: [1, 4, 9, 16, 25]\n"
          ]
        }
      ]
    },
    {
      "cell_type": "code",
      "source": [
        "4 def is_prime(num):\n",
        "    if num < 2:\n",
        "        return False\n",
        "    for i in range(2, int(num ** 0.5) + 1):\n",
        "        if num % i == 0:\n",
        "            return False\n",
        "    return True\n"
      ],
      "metadata": {
        "id": "dEOjuJFD0Rsn"
      },
      "execution_count": 8,
      "outputs": []
    },
    {
      "cell_type": "code",
      "source": [
        "for number in range(1, 201):\n",
        "    if is_prime(number):\n",
        "        print(f\"{number} is a prime number.\")\n",
        "\n"
      ],
      "metadata": {
        "id": "J3Var6-o0XyO",
        "outputId": "ccda4658-f8f0-4a19-e45c-5a43d361f25c",
        "colab": {
          "base_uri": "https://localhost:8080/"
        }
      },
      "execution_count": 9,
      "outputs": [
        {
          "output_type": "stream",
          "name": "stdout",
          "text": [
            "2 is a prime number.\n",
            "3 is a prime number.\n",
            "5 is a prime number.\n",
            "7 is a prime number.\n",
            "11 is a prime number.\n",
            "13 is a prime number.\n",
            "17 is a prime number.\n",
            "19 is a prime number.\n",
            "23 is a prime number.\n",
            "29 is a prime number.\n",
            "31 is a prime number.\n",
            "37 is a prime number.\n",
            "41 is a prime number.\n",
            "43 is a prime number.\n",
            "47 is a prime number.\n",
            "53 is a prime number.\n",
            "59 is a prime number.\n",
            "61 is a prime number.\n",
            "67 is a prime number.\n",
            "71 is a prime number.\n",
            "73 is a prime number.\n",
            "79 is a prime number.\n",
            "83 is a prime number.\n",
            "89 is a prime number.\n",
            "97 is a prime number.\n",
            "101 is a prime number.\n",
            "103 is a prime number.\n",
            "107 is a prime number.\n",
            "109 is a prime number.\n",
            "113 is a prime number.\n",
            "127 is a prime number.\n",
            "131 is a prime number.\n",
            "137 is a prime number.\n",
            "139 is a prime number.\n",
            "149 is a prime number.\n",
            "151 is a prime number.\n",
            "157 is a prime number.\n",
            "163 is a prime number.\n",
            "167 is a prime number.\n",
            "173 is a prime number.\n",
            "179 is a prime number.\n",
            "181 is a prime number.\n",
            "191 is a prime number.\n",
            "193 is a prime number.\n",
            "197 is a prime number.\n",
            "199 is a prime number.\n"
          ]
        }
      ]
    },
    {
      "cell_type": "code",
      "source": [
        " 5 class FibonacciIterator:\n",
        "    def __init__(self, terms):\n",
        "        self.terms = terms\n",
        "        self.current = 0\n",
        "        self.a, self.b = 0, 1\n",
        "\n",
        "    def __iter__(self):\n",
        "        return self\n",
        "\n",
        "    def __next__(self):\n",
        "        if self.current >= self.terms:\n",
        "            raise StopIteration\n",
        "        else:\n",
        "            value = self.a\n",
        "            self.a, self.b = self.b, self.a + self.b\n",
        "            self.current += 1\n",
        "            return value\n"
      ],
      "metadata": {
        "id": "XuPqJGM-0j2b"
      },
      "execution_count": 10,
      "outputs": []
    },
    {
      "cell_type": "code",
      "source": [
        "terms = 10\n",
        "fibonacci_sequence = FibonacciIterator(terms)\n",
        "\n",
        "for number in fibonacci_sequence:\n",
        "    print(number)\n"
      ],
      "metadata": {
        "id": "Ft6hTkb_0w4A",
        "outputId": "6e2a9279-5a2b-4b17-9f63-7af43f9579c6",
        "colab": {
          "base_uri": "https://localhost:8080/"
        }
      },
      "execution_count": 11,
      "outputs": [
        {
          "output_type": "stream",
          "name": "stdout",
          "text": [
            "0\n",
            "1\n",
            "1\n",
            "2\n",
            "3\n",
            "5\n",
            "8\n",
            "13\n",
            "21\n",
            "34\n"
          ]
        }
      ]
    },
    {
      "cell_type": "code",
      "source": [
        "6 def powers_of_two(exponent):\n",
        "    for i in range(exponent + 1):\n",
        "        yield 2 ** i\n"
      ],
      "metadata": {
        "id": "ibxcr7n5015b"
      },
      "execution_count": 12,
      "outputs": []
    },
    {
      "cell_type": "code",
      "source": [
        "exponent = 5\n",
        "for power in powers_of_two(exponent):\n",
        "    print(power)\n",
        "\n"
      ],
      "metadata": {
        "id": "iLF9nIdd0-4w",
        "outputId": "49e1ca62-9251-4d65-d5ea-f74697ac9394",
        "colab": {
          "base_uri": "https://localhost:8080/"
        }
      },
      "execution_count": 13,
      "outputs": [
        {
          "output_type": "stream",
          "name": "stdout",
          "text": [
            "1\n",
            "2\n",
            "4\n",
            "8\n",
            "16\n",
            "32\n"
          ]
        }
      ]
    },
    {
      "cell_type": "code",
      "source": [
        "def read_file_line_by_line(file_path):\n",
        "    try:\n",
        "        with open(file_path, 'r') as file:\n",
        "            for line in file:\n",
        "                yield line\n",
        "    except FileNotFoundError:\n",
        "        print(f\"Error: The file at {file_path} was not found.\")\n",
        "    except IOError:\n",
        "        print(f\"Error: An I/O error occurred while reading the file at {file_path}.\")\n",
        "\n"
      ],
      "metadata": {
        "id": "aV0_A7np6EiL"
      },
      "execution_count": 33,
      "outputs": []
    },
    {
      "cell_type": "code",
      "source": [
        "file_path = 'example.txt'  # Replace with your actual file path\n",
        "\n",
        "for line in read_file_line_by_line(file_path):\n",
        "    print(line, end='')  # 'end' parameter prevents adding an extra newline\n"
      ],
      "metadata": {
        "id": "3rCevF5i6Kj1",
        "outputId": "edbd2b07-65d4-4b2c-9f06-927e3c7b2e69",
        "colab": {
          "base_uri": "https://localhost:8080/"
        }
      },
      "execution_count": 34,
      "outputs": [
        {
          "output_type": "stream",
          "name": "stdout",
          "text": [
            "Error: The file at example.txt was not found.\n"
          ]
        }
      ]
    },
    {
      "cell_type": "code",
      "source": [
        "8   # Sample list of tuples\n",
        "list_of_tuples = [(1, 3), (2, 1), (3, 2)]\n",
        "\n",
        "# Sort the list using a lambda function\n",
        "sorted_list = sorted(list_of_tuples, key=lambda x: x[1])\n",
        "\n",
        "print(\"Sorted list:\", sorted_list)\n",
        "\n"
      ],
      "metadata": {
        "id": "j3YeEdPc1pzo",
        "outputId": "619f30a8-b032-48cb-a959-e310bc11f7aa",
        "colab": {
          "base_uri": "https://localhost:8080/"
        }
      },
      "execution_count": 18,
      "outputs": [
        {
          "output_type": "stream",
          "name": "stdout",
          "text": [
            "Sorted list: [(2, 1), (3, 2), (1, 3)]\n"
          ]
        }
      ]
    },
    {
      "cell_type": "code",
      "source": [
        "9 def celsius_to_fahrenheit(celsius):\n",
        "    return (celsius * 9/5) + 32\n",
        "\n",
        "# List of temperatures in Celsius\n",
        "celsius_temps = [0, 10, 20, 30, 40]\n",
        "\n",
        "# Use map() to convert each Celsius temperature to Fahrenheit\n",
        "fahrenheit_temps = list(map(celsius_to_fahrenheit, celsius_temps))\n",
        "\n",
        "print(\"Temperatures in Fahrenheit:\", fahrenheit_temps)\n",
        "\n"
      ],
      "metadata": {
        "id": "11Tl-zL42J_W",
        "outputId": "0813a8fe-ee2e-48d5-f386-8061d062b130",
        "colab": {
          "base_uri": "https://localhost:8080/"
        }
      },
      "execution_count": 26,
      "outputs": [
        {
          "output_type": "stream",
          "name": "stdout",
          "text": [
            "Temperatures in Fahrenheit: [32.0, 50.0, 68.0, 86.0, 104.0]\n"
          ]
        }
      ]
    },
    {
      "cell_type": "code",
      "source": [
        "10 def remove_vowels(char):\n",
        "    vowels = \"aeiouAEIOU\"\n",
        "    return char not in vowels\n",
        "\n",
        "def filter_vowels(input_string):\n",
        "    return ''.join(filter(remove_vowels, input_string))\n",
        "\n",
        "# Example usage\n",
        "input_string = \"Hello, World!\"\n",
        "result = filter_vowels(input_string)\n",
        "print(\"String without vowels:\", result)\n",
        "\n"
      ],
      "metadata": {
        "id": "b3xvPAAd3JST",
        "outputId": "45ee906a-6e87-4fb8-9a11-53e8c6c451e7",
        "colab": {
          "base_uri": "https://localhost:8080/"
        }
      },
      "execution_count": 28,
      "outputs": [
        {
          "output_type": "stream",
          "name": "stdout",
          "text": [
            "String without vowels: Hll, Wrld!\n"
          ]
        }
      ]
    },
    {
      "cell_type": "code",
      "source": [
        "# List of orders with the format [Order Number, Book Title and Author, Quantity, Price per Item]\n",
        "orders = [\n",
        "    [34587, \"Learning Python, Mark Lutz\", 4, 40.95],\n",
        "    [98762, \"Programming Python, Mark Lutz\", 5, 56.88],\n",
        "    [77226, \"Head First Python, Paul Barry\", 3, 32.95],\n",
        "    [88112, \"Einführung in Python3, Bernd Klein\", 3, 24.99]\n",
        "]\n",
        "\n",
        "# Function to calculate the adjusted total price\n",
        "def calculate_total(order):\n",
        "    order_number, _, quantity, price_per_item = order\n",
        "    total = quantity * price_per_item\n",
        "    if total < 100:\n",
        "        total += 10\n",
        "    return (order_number, total)\n",
        "\n",
        "# Use map() with lambda to apply the function to each order\n",
        "result = list(map(lambda order: calculate_total(order), orders))\n",
        "\n",
        "print(\"Order Summary:\", result)\n"
      ],
      "metadata": {
        "id": "SnzD3KXq4sAD",
        "outputId": "fd88cff4-2168-49b7-f888-081b68c67b7c",
        "colab": {
          "base_uri": "https://localhost:8080/"
        }
      },
      "execution_count": 32,
      "outputs": [
        {
          "output_type": "stream",
          "name": "stdout",
          "text": [
            "Order Summary: [(34587, 163.8), (98762, 284.40000000000003), (77226, 108.85000000000001), (88112, 84.97)]\n"
          ]
        }
      ]
    },
    {
      "cell_type": "code",
      "source": [],
      "metadata": {
        "id": "ZP7UnOBt5zJX"
      },
      "execution_count": null,
      "outputs": []
    }
  ],
  "metadata": {
    "colab": {
      "name": "Welcome To Colab",
      "toc_visible": true,
      "provenance": []
    },
    "kernelspec": {
      "display_name": "Python 3",
      "name": "python3"
    }
  },
  "nbformat": 4,
  "nbformat_minor": 0
}